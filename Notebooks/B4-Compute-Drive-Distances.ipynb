{
 "cells": [
  {
   "cell_type": "markdown",
   "metadata": {},
   "source": [
    "## Compute driving distances - IN PROGRESS\n",
    "Here we modify our previous analysis that computed the Euclidean distance between candidate site (exits) and existing infrastructure (DCFC) by instead measuring *driving* distances. To do this we need a network dataset, often called a *graph dataset* of roads, which we get from OpenStreetMap, and a means for analyzing network datasets, which we can do via the `osmnx` package. \n",
    "\n",
    "The analysis here is guided by the analysis presented in [Lesson 6: Network Analysis in Python](https://automating-gis-processes.github.io/site/notebooks/L6/network-analysis.html) of the Automating GIS curriculum.\n",
    "\n",
    "Prior to running this notebook, you should have already run `A4-Fetch-NC-roads-as-graph.ipynb` to download the NC roads as a graphml dataset into your Data/OSM folder.\n",
    "\n",
    "The workflow here is:\n",
    "* Import major roads as a graph dataset from OSM saved graphml file\n",
    "* Import the DCFC csv file and convert to a geopandas dataframe\n",
    "* Import the exits feature class as a geopdandas dataframe\n",
    "* For each exit:\n",
    " * Find the nearest node in the NC graph\n",
    " * Compute the subgraph of edges within 100 miles of the node; extract to a shape, and add to a list\n",
    " * Compute the subgraph of edges within 50 miles of the node; extract to a shape, and add to a list\n",
    "* Union all 100 mile drive zones\n",
    "* Union all 50 mile drive zones\n",
    "* Eliminate all 50 mile drive zones from the 100 mile drive zones\n",
    "* Identify all "
   ]
  },
  {
   "cell_type": "code",
   "execution_count": null,
   "metadata": {},
   "outputs": [],
   "source": [
    "import osmnx as ox\n",
    "import networkx as nx\n",
    "import geopandas as gpd\n",
    "import pandas as pd\n",
    "from shapely.geometry import Point"
   ]
  },
  {
   "cell_type": "code",
   "execution_count": null,
   "metadata": {},
   "outputs": [],
   "source": [
    "#Load in the NC road network\n",
    "nc_graph = ox.load_graphml('NC_roads.graphml',folder='../Data/OSM/')"
   ]
  },
  {
   "cell_type": "code",
   "execution_count": null,
   "metadata": {},
   "outputs": [],
   "source": [
    "#Load in the DCFC locations as pandas dataframe\n",
    "dcfc_df = pd.read_csv('../Data/NREL/DCFC.csv')"
   ]
  },
  {
   "cell_type": "code",
   "execution_count": null,
   "metadata": {},
   "outputs": [],
   "source": [
    "#Convert to a geopandas dataframe\n",
    "geom_points = [Point(xy) for xy in zip(dcfc_df['longitude'],dcfc_df['latitude'])]\n",
    "dcfc_gdf = gpd.GeoDataFrame(dcfc_df,geometry=geom_points,crs=4326)"
   ]
  },
  {
   "cell_type": "code",
   "execution_count": null,
   "metadata": {},
   "outputs": [],
   "source": [
    "#Compute areas within 50 miles of a point\n",
    "\n",
    "#Get the first point, as an example\n",
    "thePoint = dcfc_gdf.at[0,'geometry']"
   ]
  },
  {
   "cell_type": "markdown",
   "metadata": {},
   "source": [
    "https://osmnx.readthedocs.io/en/stable/osmnx.html#osmnx.geo_utils.get_nearest_node"
   ]
  },
  {
   "cell_type": "code",
   "execution_count": null,
   "metadata": {},
   "outputs": [],
   "source": [
    "#Convert the shapely Point to a tuple (y,x)\n",
    "yx = (thePoint.y,thePoint.x)"
   ]
  },
  {
   "cell_type": "code",
   "execution_count": null,
   "metadata": {},
   "outputs": [],
   "source": [
    "#Get the graph node nearest the point\n",
    "theStartNode = ox.get_nearest_node(nc_graph,yx)\n",
    "theStartNode"
   ]
  },
  {
   "cell_type": "markdown",
   "metadata": {},
   "source": [
    "https://github.com/gboeing/osmnx-examples/blob/master/notebooks/13-isolines-isochrones.ipynb"
   ]
  },
  {
   "cell_type": "code",
   "execution_count": null,
   "metadata": {},
   "outputs": [],
   "source": [
    "#Compute the subgraph: all points within X miles of theStartNode\n",
    "subgraph_50 = nx.ego_graph(nc_graph,theStartNode,radius=1609.34 * 50,distance='length')\n",
    "subgraph_100 = nx.ego_graph(nc_graph,theStartNode,radius=1609.34 * 100,distance='length')"
   ]
  },
  {
   "cell_type": "code",
   "execution_count": null,
   "metadata": {},
   "outputs": [],
   "source": [
    "#Convert the subgraph to geodataframes of nodes and edges\n",
    "node50_gdf,edge50_gdf = ox.graph_to_gdfs(subgraph_50)\n",
    "node100_gdf,edge100_gdf = ox.graph_to_gdfs(subgraph_100)"
   ]
  },
  {
   "cell_type": "code",
   "execution_count": null,
   "metadata": {},
   "outputs": [],
   "source": [
    "drive50 = edge50_gdf['geometry'].unary_union\n",
    "type(drive50)"
   ]
  },
  {
   "cell_type": "code",
   "execution_count": null,
   "metadata": {},
   "outputs": [],
   "source": [
    "drive100 = edge100_gdf['geometry'].unary_union\n",
    "type(drive100)"
   ]
  },
  {
   "cell_type": "code",
   "execution_count": null,
   "metadata": {},
   "outputs": [],
   "source": [
    "dcfc_gdf.at[0,'drive50'] = drive50\n",
    "dcfc_gdf.at[0,'drive100'] = drive100"
   ]
  },
  {
   "cell_type": "code",
   "execution_count": null,
   "metadata": {},
   "outputs": [],
   "source": [
    "#Create a function that extracts areas within 100 "
   ]
  },
  {
   "cell_type": "code",
   "execution_count": null,
   "metadata": {},
   "outputs": [],
   "source": [
    "#Find the symmetric difference between the two edge geodataframes\n",
    "edge_gdf = gpd.overlay(edge100_gdf,edge50_gdf,how='difference')"
   ]
  },
  {
   "cell_type": "code",
   "execution_count": null,
   "metadata": {},
   "outputs": [],
   "source": [
    "ax = edge100_gdf.plot(figsize=(10,10),color='grey',linewidth=15)\n",
    "edge_gdf.plot(ax=ax, color='yellow',alpha=1,linewidth=1)\n",
    "edge50_gdf.plot(ax=ax, color='blue',alpha=0.1,linewidth=0.1)"
   ]
  },
  {
   "cell_type": "code",
   "execution_count": null,
   "metadata": {},
   "outputs": [],
   "source": []
  },
  {
   "cell_type": "code",
   "execution_count": null,
   "metadata": {},
   "outputs": [],
   "source": [
    "#Get all roads within 50 miles\n",
    "sub50 = nx.ego_graph(nc_graph,nearNodes,radius=1609.34 * 50,distance='length')"
   ]
  },
  {
   "cell_type": "code",
   "execution_count": null,
   "metadata": {},
   "outputs": [],
   "source": [
    "def get_start_node(theShape):\n",
    "    yx = (theShape.y, theShape.x)\n",
    "    theStartNode = ox.get_nearest_nodes"
   ]
  },
  {
   "cell_type": "code",
   "execution_count": null,
   "metadata": {},
   "outputs": [],
   "source": [
    "dcfc_gdf['start_id'] = dcfc_gdf['geometry'].apply(ox.get_nearest_node)"
   ]
  },
  {
   "cell_type": "code",
   "execution_count": null,
   "metadata": {},
   "outputs": [],
   "source": []
  }
 ],
 "metadata": {
  "kernelspec": {
   "display_name": "Python 3",
   "language": "python",
   "name": "python3"
  },
  "language_info": {
   "codemirror_mode": {
    "name": "ipython",
    "version": 3
   },
   "file_extension": ".py",
   "mimetype": "text/x-python",
   "name": "python",
   "nbconvert_exporter": "python",
   "pygments_lexer": "ipython3",
   "version": "3.7.6"
  }
 },
 "nbformat": 4,
 "nbformat_minor": 4
}
