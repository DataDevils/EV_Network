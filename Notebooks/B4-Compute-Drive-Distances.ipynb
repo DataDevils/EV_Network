{
 "cells": [
  {
   "cell_type": "markdown",
   "metadata": {},
   "source": [
    "## Compute driving distances - IN PROGRESS\n",
    "Here we modify our previous analysis that computed the Euclidean distance between candidate site (exits) and existing infrastructure (DCFC) by instead measuring *driving* distances. To do this we need a network dataset, often called a *graph dataset* of roads, which we get from OpenStreetMap, and a means for analyzing network datasets, which we can do via the `osmnx` package. \n",
    "\n",
    "The analysis here is guided by the analysis presented in [Lesson 6: Network Analysis in Python](https://automating-gis-processes.github.io/site/notebooks/L6/network-analysis.html) of the Automating GIS curriculum, but with a number of twists. We also need to dig deeper into the graph analysis capabilities of the [NetworkX package](https://networkx.github.io/documentation/networkx-1.10/index.html), specifically using its [shortest paths](https://networkx.github.io/documentation/networkx-1.10/reference/algorithms.shortest_paths.html) algorithms to measure network distances away from DFCF chargers. "
   ]
  },
  {
   "cell_type": "markdown",
   "metadata": {},
   "source": [
    "Prior to running this notebook, you should have already run `A4-Fetch-NC-roads-as-graph.ipynb` to download the NC roads as a graphml dataset into your Data/OSM folder.\n",
    "\n",
    "The workflow here is:\n",
    "* Import major roads as a graph dataset from OSM saved graphml file\n",
    "* Import the DCFC csv file and convert to a geopandas dataframe\n",
    "* Import the exits feature class as a geopdandas dataframe\n",
    "* Compute weighted distance from each node to all other nodes capped at 100 miles\n",
    "* From the above: compute distances from DCFC node to each Exit node\n",
    "* Append node distances to exit features in exit geodataframe\n",
    "\n",
    "The result will be a geodataframe with a new column indicating driving distances to the nearest DCFC, up to 100 miles, which is saved to a new shapefile: `exits_drivedist.shp`"
   ]
  },
  {
   "cell_type": "code",
   "execution_count": null,
   "metadata": {},
   "outputs": [],
   "source": [
    "#Import packages\n",
    "import osmnx as ox\n",
    "import networkx as nx\n",
    "import geopandas as gpd\n",
    "import pandas as pd\n",
    "from shapely.geometry import Point"
   ]
  },
  {
   "cell_type": "markdown",
   "metadata": {},
   "source": [
    "### Load data into the coding environment"
   ]
  },
  {
   "cell_type": "code",
   "execution_count": null,
   "metadata": {},
   "outputs": [],
   "source": [
    "#Load in the NC road network\n",
    "nc_graph = ox.load_graphml('NC_roads.graphml',folder='../Data/OSM/')"
   ]
  },
  {
   "cell_type": "code",
   "execution_count": null,
   "metadata": {},
   "outputs": [],
   "source": [
    "#Load in the DCFC locations as pandas dataframe\n",
    "dcfc_df = pd.read_csv('../Data/NREL/DCFC.csv')"
   ]
  },
  {
   "cell_type": "code",
   "execution_count": null,
   "metadata": {},
   "outputs": [],
   "source": [
    "#Convert to a geopandas dataframe\n",
    "geom_points = [Point(xy) for xy in zip(dcfc_df['longitude'],dcfc_df['latitude'])]\n",
    "dcfc_gdf = gpd.GeoDataFrame(dcfc_df,geometry=geom_points,crs=4326)"
   ]
  },
  {
   "cell_type": "code",
   "execution_count": null,
   "metadata": {},
   "outputs": [],
   "source": [
    "#Load exits as a geopandas dataframe\n",
    "exits_gdf = gpd.read_file('../Data/MJBA/Exits.shp')"
   ]
  },
  {
   "cell_type": "markdown",
   "metadata": {},
   "source": [
    "### Compute network node ids for each DCFC and Exit locations"
   ]
  },
  {
   "cell_type": "code",
   "execution_count": null,
   "metadata": {},
   "outputs": [],
   "source": [
    "#Define the function to extract the nearest node ID for a point object\n",
    "def get_nodeid(thePoint):\n",
    "    #Get the yx tuple\n",
    "    yx = (thePoint.y,thePoint.x)\n",
    "    #Fetch the node nearest the xy tuple\n",
    "    node_id = ox.get_nearest_node(nc_graph,yx)\n",
    "    #Return the node id\n",
    "    return node_id"
   ]
  },
  {
   "cell_type": "code",
   "execution_count": null,
   "metadata": {},
   "outputs": [],
   "source": [
    "#Apply the function to each point in the DCFC geodataframe, adding node ID as a column\n",
    "dcfc_gdf['node_id'] = dcfc_gdf['geometry'].apply(get_nodeid)"
   ]
  },
  {
   "cell_type": "code",
   "execution_count": null,
   "metadata": {},
   "outputs": [],
   "source": [
    "#Apply the function to each point in the Exits geodataframe, adding node ID as a column\n",
    "exits_gdf['node_id'] = exits_gdf['geometry'].apply(get_nodeid)"
   ]
  },
  {
   "cell_type": "code",
   "execution_count": null,
   "metadata": {},
   "outputs": [],
   "source": [
    "#Create lists from the values, for later use\n",
    "nodes_dcfc = dcfc_gdf['node_id'].unique()\n",
    "nodes_exits = exits_gdf['node_id'].unique()"
   ]
  },
  {
   "cell_type": "markdown",
   "metadata": {},
   "source": [
    "### Compute the distance away from each DCFC\n",
    "With our network dataset, we can use the `networkx` package to compute distances along the network. This is done using the [Shortest Paths algorithms](https://networkx.github.io/documentation/networkx-1.10/reference/algorithms.shortest_paths.html), specifically the Dijkstra algorithms which computes a weighted distance (using lengths as our weight).  \n",
    "\n",
    "We'll explore this analysis using the example of a single DCFC location, computing the distance of each node away from this point, and then assigning this distance to each Exit feature by determining the node that is nearest the Exit. The workflow is summarized as follows:\n",
    "* Extract a single node ID (from the list generatd above)\n",
    "* Use the `single_source_dijkstra_path_length()` algorithm to compute the network distance from this node to all other nodes in the graph, up to a limit of 100 miles. \n",
    "* From this result, extract the node nearest each exit and assign the distance to that node"
   ]
  },
  {
   "cell_type": "code",
   "execution_count": null,
   "metadata": {},
   "outputs": [],
   "source": [
    "#Get the graph node nearest the point\n",
    "theStartNode = nodes_dcfc[0]\n",
    "theStartNode"
   ]
  },
  {
   "cell_type": "code",
   "execution_count": null,
   "metadata": {},
   "outputs": [],
   "source": [
    "#Compute distance to other nodes, with cutoff of 100 miles\n",
    "theSPs = nx.single_source_dijkstra_path_length(nc_graph,\n",
    "                                               theStartNode,cutoff=100*1609.34,\n",
    "                                               weight='length')"
   ]
  },
  {
   "cell_type": "markdown",
   "metadata": {},
   "source": [
    "The result of the algorithm is a dictionary of nodes:distance values. A quick detour to convert the dictionary into a dataframe and plot the histogram of each node's distance away from the DCFC point."
   ]
  },
  {
   "cell_type": "code",
   "execution_count": null,
   "metadata": {},
   "outputs": [],
   "source": [
    "#Create a dataframe of the distances, and plot in miles\n",
    "df = pd.DataFrame()\n",
    "df['node_id']=theSPs.keys()\n",
    "df['distance_m'] = theSPs.values()\n",
    "df['distance_mi'] = df.distance_m/1609.34\n",
    "df.distance_mi.hist();"
   ]
  },
  {
   "cell_type": "code",
   "execution_count": null,
   "metadata": {},
   "outputs": [],
   "source": [
    "#Compute the paths to other nodes, with cutoff of 100 miles\n",
    "thePaths = nx.single_source_dijkstra_path(nc_graph,\n",
    "                                          theStartNode,cutoff=100*1609.34,\n",
    "                                          weight='length')\n",
    "type(thePaths)"
   ]
  },
  {
   "cell_type": "markdown",
   "metadata": {},
   "source": [
    "This returns a dictionary listing all the nodes within 100 miles of a given node. So, we can iterate thro"
   ]
  },
  {
   "cell_type": "code",
   "execution_count": null,
   "metadata": {},
   "outputs": [],
   "source": [
    "thePaths[theStartNode]"
   ]
  },
  {
   "cell_type": "code",
   "execution_count": null,
   "metadata": {},
   "outputs": [],
   "source": [
    "nx.dijkstra_path_length(nc_graph,nodes_dcfc[0],nodes_exits[0],weight='length')"
   ]
  },
  {
   "cell_type": "markdown",
   "metadata": {},
   "source": [
    "Now we boost the process to compute network distances from all DCFC locations, done by using the `all_pairs_dijkstra_path_length()` algorithm ([link](https://networkx.github.io/documentation/networkx-1.10/reference/generated/networkx.algorithms.shortest_paths.weighted.single_source_dijkstra_path.html#single-source-dijkstra-path)), again applying a cutoff of 100 miles. "
   ]
  },
  {
   "cell_type": "code",
   "execution_count": null,
   "metadata": {},
   "outputs": [],
   "source": [
    "#Compute all pairs lengths\n",
    "allDistPairs = nx.all_pairs_dijkstra_path_length(nc_graph,cutoff=100*1609.34,weight='length')\n",
    "type(allDistPairs)"
   ]
  },
  {
   "cell_type": "markdown",
   "metadata": {},
   "source": [
    "Because this function returns a large number of results, it returns a \"generator\" object, not a dictionary or list. The items in a generator object can only be accessed sequentially, so wee need to iterate through the objects to work with it. \n",
    "\n",
    "Below, we loop through all items in this generator. Each item in the generator is a tuple, with the first item in this tuple being the ID of the source node, and the second item is a dictionary containing each node falling within 100 miles and its distance from the source node. For example, the result of the first item would be:\n",
    "```\n",
    "(1859256320, {1859256320: 0, 149376304: 42.997, 149412495: 59.782000000000004})\n",
    "```\n",
    "Here, `1859256320` is the source node, corresponding to the DCFC location. And `{1859256320: 0, 149376304: 42.997, 149412495: 59.782000000000004}` reveals the connected nodes and their distances (in meters). \n",
    "\n",
    "So, in the code below, we iterate through each item in the generator, and at each iteration, we check to see if the start node corresponds to a DCFC location. If it does, then we investigate whether its connected nodes include any Exit nodes. And if it does, then we see if the distance between these two nodes is the minimum recorded distance. If it is, then we label that in the Edges dataframe; if not, then we keep the exising value..."
   ]
  },
  {
   "cell_type": "code",
   "execution_count": null,
   "metadata": {},
   "outputs": [],
   "source": [
    "#Loop through the results and extract the distances associated with DCFC nodes\n",
    "distance_data = {}\n",
    "for distItem in allDistPairs:\n",
    "    #Get the items in the tuple\n",
    "    startNode_id = distItem[0]\n",
    "    path_data = distItem[1]\n",
    "    #Check whether the start node occurs in the list of DCFC nodes\n",
    "    if startNode_id in nodes_dcfc:\n",
    "        #If so, get its end nodes as a Python set object...\n",
    "        endNodes = set(path_data.keys())\n",
    "        #Now intersect this set with the set of exit node IDs\n",
    "        valid_endNodes = endNodes.intersection(set(nodes_exits))\n",
    "        #See if the intersection has any members\n",
    "        if len(valid_endNodes) > 0:\n",
    "            #If so, loop through items\n",
    "            for node in valid_endNodes:\n",
    "                #Get the distance associated with the node\n",
    "                theDistance = path_data[node]\n",
    "                #See if node already in dict\n",
    "                if node in distance_data.keys():\n",
    "                    #If so, compare existing distance to new distance\n",
    "                    if distance_data[node] >= theDistance:\n",
    "                        #If it's greater, update with smaller\n",
    "                        distance_data[node] = theDistance\n",
    "                #And if the node has not yet been added, add it\n",
    "                else:\n",
    "                    distance_data[node] = theDistance"
   ]
  },
  {
   "cell_type": "code",
   "execution_count": null,
   "metadata": {},
   "outputs": [],
   "source": [
    "#Convert to a dataframe\n",
    "df_distance = pd.DataFrame()\n",
    "df_distance['node_id'] = distance_data.keys()\n",
    "df_distance['dist_m'] = distance_data.values()\n",
    "df_distance['dist_mi'] = df_distance['dist_m'] / 1609.34\n",
    "df_distance.head()"
   ]
  },
  {
   "cell_type": "code",
   "execution_count": null,
   "metadata": {},
   "outputs": [],
   "source": [
    "#Join the data to the exits data\n",
    "exits_gdf1 = pd.merge(exits_gdf,df_distance,left_on='node_id',right_on='node_id',how='left')"
   ]
  },
  {
   "cell_type": "code",
   "execution_count": null,
   "metadata": {},
   "outputs": [],
   "source": [
    "exits_gdf1.to_file('../Data/processed/exits_distance.shp')"
   ]
  },
  {
   "cell_type": "markdown",
   "metadata": {},
   "source": [
    "### A bit of visualization..."
   ]
  },
  {
   "cell_type": "code",
   "execution_count": null,
   "metadata": {},
   "outputs": [],
   "source": [
    "#Plot a histogram of distances\n",
    "exits_gdf1['dist_mi'].hist();"
   ]
  },
  {
   "cell_type": "code",
   "execution_count": null,
   "metadata": {},
   "outputs": [],
   "source": [
    "#Create a list of exit colors, for plotting\n",
    "exit_colors = []\n",
    "for d in exits_gdf1['dist_mi']:\n",
    "    if d < 50: exit_colors.append('grey')\n",
    "    elif d > 100: exit_colors.append('green')\n",
    "    else: exit_colors.append('red')"
   ]
  },
  {
   "cell_type": "code",
   "execution_count": null,
   "metadata": {},
   "outputs": [],
   "source": [
    "#Plot exits and charger locations\n",
    "ax = exits_gdf1.plot(markersize='dist_mi',  #Make further exits larger\n",
    "                     figsize=(20,15),       #Size of figure\n",
    "                     color=exit_colors,     #Use colors set above\n",
    "                     alpha=0.3)             #Set to mostly transparent\n",
    "ax.set_title(\"NC Candidate Locations\")\n",
    "\n",
    "#Add the DCFC locations as small blue crosses\n",
    "dcfc_gdf.plot(color='blue',marker='+',ax=ax);"
   ]
  },
  {
   "cell_type": "code",
   "execution_count": null,
   "metadata": {},
   "outputs": [],
   "source": []
  }
 ],
 "metadata": {
  "kernelspec": {
   "display_name": "Python 3",
   "language": "python",
   "name": "python3"
  },
  "language_info": {
   "codemirror_mode": {
    "name": "ipython",
    "version": 3
   },
   "file_extension": ".py",
   "mimetype": "text/x-python",
   "name": "python",
   "nbconvert_exporter": "python",
   "pygments_lexer": "ipython3",
   "version": "3.7.6"
  }
 },
 "nbformat": 4,
 "nbformat_minor": 4
}
