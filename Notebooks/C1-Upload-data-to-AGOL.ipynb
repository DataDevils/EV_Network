{
 "cells": [
  {
   "cell_type": "markdown",
   "metadata": {},
   "source": [
    "## Update data to your ArcGIS Online Account\n",
    "We won't have sufficient time to explore visualization techniques available in Python. However, this notebook reveals how we can easily upload and document our datasets to our ArcGIS Online account, where we can more easily create web maps, story maps, and/or dashboards that we can share. \n",
    "\n",
    "The workflow, which relies heavily on ESRI's ArcGIS Python API, is fairly simple:\n",
    "* Create a `gis` object, authenticated to our NSOE ArcGIS Online Account\n",
    "* Add our shapefile to the coding environment as a spatially enabled dataframe (aka \"GeoAccessor\" object)\n",
    "* Use the [to_featurelayer()](https://developers.arcgis.com/python/api-reference/arcgis.features.toc.html#arcgis.features.GeoAccessor.to_featurelayer) function to publish our feature layer to our NSOE AGOL space\n",
    "* Optionally: We can update information about our newly published feature layer\n",
    "* Optionally: We can share out newly published feature layer"
   ]
  },
  {
   "cell_type": "code",
   "execution_count": null,
   "metadata": {},
   "outputs": [],
   "source": [
    "#Load packages\n",
    "from arcgis import GIS\n",
    "import pandas as pd\n",
    "from arcgis.features import GeoAccessor"
   ]
  },
  {
   "cell_type": "code",
   "execution_count": null,
   "metadata": {},
   "outputs": [],
   "source": [
    "#Authenticate our GIS object\n",
    "gis = GIS(url='https://NSOE.maps.arcgis.com',username='jpfay_790')"
   ]
  },
  {
   "cell_type": "code",
   "execution_count": null,
   "metadata": {},
   "outputs": [],
   "source": [
    "#Read local dataset into a spatial dataframe\n",
    "data_sdf = GeoAccessor.from_featureclass('../Data/processed/exits_distance.shp')"
   ]
  },
  {
   "cell_type": "code",
   "execution_count": null,
   "metadata": {},
   "outputs": [],
   "source": [
    "#Publish the data to a feature layer collection\n",
    "the_FLyr = data_sdf.spatial.to_featurelayer(title=\"Exit_Distances\", #Set the title of our feature layer\n",
    "                                            tags='EV,ENV790')       #Set the tags to associate with the layer"
   ]
  },
  {
   "cell_type": "markdown",
   "metadata": {},
   "source": [
    "Update the feature layer's properties. We do this by first creating a dictionary of properties and their values and then updating our feature layer with these properties. See: https://developers.arcgis.com/python/api-reference/arcgis.gis.toc.html#arcgis.gis.Item.update for more information on what we can update and how the dictionary is strucutred."
   ]
  },
  {
   "cell_type": "code",
   "execution_count": null,
   "metadata": {},
   "outputs": [],
   "source": [
    "#Update the publishe feature layer's properties\n",
    "the_FLyr.update({\n",
    "    'snippet':\"Candidate EV sites tagged by distance to DCFC charger (max=100mi)\",\n",
    "    'title':\"Candidate Sites - distance to DCFC\",\n",
    "    'summary':\"Driving distance from DCFC Charger\"\n",
    "})"
   ]
  },
  {
   "cell_type": "code",
   "execution_count": null,
   "metadata": {},
   "outputs": [],
   "source": [
    "#Share with everyone in the organization\n",
    "the_FLC.share(org=True)"
   ]
  }
 ],
 "metadata": {
  "kernelspec": {
   "display_name": "Python 3",
   "language": "python",
   "name": "python3"
  },
  "language_info": {
   "codemirror_mode": {
    "name": "ipython",
    "version": 3
   },
   "file_extension": ".py",
   "mimetype": "text/x-python",
   "name": "python",
   "nbconvert_exporter": "python",
   "pygments_lexer": "ipython3",
   "version": "3.7.6"
  }
 },
 "nbformat": 4,
 "nbformat_minor": 4
}
