{
 "cells": [
  {
   "cell_type": "markdown",
   "metadata": {},
   "source": [
    "### Compute # of Amenity \"Points of Interests\" near each exit\n",
    "\n",
    "In this notebook, we extract OpenStreetMap (OSM) amenity locations near our remaining candidate sites. This involves buffering the area around all exit features and using that buffered shape to extract OSM \"point of interest\" (POI) data using the `osmnx` Python package. \n",
    "\n",
    "The \"Automating GIS\" [Lesson 6](https://automating-gis-processes.github.io/site/notebooks/L6/retrieve_osm_data.html#Points-of-interest) provides a useful overview of this process. The [documentation on the `osmnx`](https://osmnx.readthedocs.io/en/stable/) provides more information and is quite useful for exploring more about what the package can do.\n",
    "\n",
    "An outline of the workflow:\n",
    "* Import the remaining candidate sites (i.e. exits) into our code environment\n",
    "* Buffer the exit point features 1 mile\n",
    " * This requires ensuring our features using a projected crs\n",
    "* Transforming the buffered features to the WGS 84 (epsg:4326) crs (to match OSM data)\n",
    "* Combining the set of buffered exit features to a single multipolygon geometry (for OSM query)\n",
    "* Querying OSM amenity points of interest found within the above geometry\n",
    "* OPTIONAL: save the resulting features to a CSV\n",
    "* OPTIONAL: save the resulting features to a shapefile\n",
    " * Requires ensuring that all feature geometry types are the same\n",
    "* Iterating through each exit feature and counting the number of amenities within 1 mile\n",
    "* Appending the count of amenities tallied above to the exits attribute table; save as shapefile"
   ]
  },
  {
   "cell_type": "code",
   "execution_count": null,
   "metadata": {},
   "outputs": [],
   "source": [
    "#Import packages\n",
    "import geopandas as gpd\n",
    "import osmnx as ox\n",
    "import shapely\n",
    "\n",
    "#import shapely.speedups\n",
    "from shapely import speedups\n",
    "speedups.enabled"
   ]
  },
  {
   "cell_type": "code",
   "execution_count": null,
   "metadata": {},
   "outputs": [],
   "source": [
    "#Read in exits feature class as a geodataframe\n",
    "theExits = gpd.read_file('../Data/processed/Exits_distance_to_DCFC.shp')\n",
    "type(theExits)"
   ]
  },
  {
   "cell_type": "markdown",
   "metadata": {},
   "source": [
    "* As we are going to buffer our features, we need to ensure the features have a projected coordinate reference system. If not, we should transform the data so that it does."
   ]
  },
  {
   "cell_type": "code",
   "execution_count": null,
   "metadata": {},
   "outputs": [],
   "source": [
    "#Check the spatial reference of the exit features\n",
    "theExits.crs"
   ]
  },
  {
   "cell_type": "markdown",
   "metadata": {},
   "source": [
    "We see that our dataset uses the UTM Zone 17N (NAD83) coordinate reference system. It's units are in meters, so we are set to buffer the data.\n",
    "\n",
    "*TIP: you could also peek at the values in the `geometry` column. If the numbers are relatively small (e.g. between 0 and 180) your data most likely uses a geographic crs (with values in degrees). However, if the values are in the hundreds of thousands, the data are most likley in meters or feet.*"
   ]
  },
  {
   "cell_type": "markdown",
   "metadata": {},
   "source": [
    "* Next we need to buffer the features. We'll choose 1 mile as the distance around each exit we'd like to search for amenities. After buffering the features, we'll need to transform our features to the WGS84 coordinate reference system, as that is what the `osmnx` package requires for spatially selecting OSM data. And finally, we'll need to combine all our set of individidual exit buffers into a single shape - using the shapely `unary_union` function. This again is to meet the requirements of the `osmnx` package."
   ]
  },
  {
   "cell_type": "code",
   "execution_count": null,
   "metadata": {},
   "outputs": [],
   "source": [
    "#Buffer the exits 1 mile (1609.34 m); transform to WGS84, and dissolve into a single shape\n",
    "theExits['geometry'] = theExits['geometry'].buffer(1609.34)"
   ]
  },
  {
   "cell_type": "code",
   "execution_count": null,
   "metadata": {},
   "outputs": [],
   "source": [
    "#Transform the buffered features to WGS 84\n",
    "theExits_wgs84 = theExits.to_crs(4326)"
   ]
  },
  {
   "cell_type": "code",
   "execution_count": null,
   "metadata": {},
   "outputs": [],
   "source": [
    "#Combine features into a single multipolygon\n",
    "theSearchArea = theExits_wgs84.unary_union\n",
    "type(theSearchArea)"
   ]
  },
  {
   "cell_type": "markdown",
   "metadata": {},
   "source": [
    "* And now we use the `osmnx` packages's `create_poi_gdf()` function to extract amenities within the search area geometry. Here, we'll pull restaurantes and cafes. See the [OSM documentation](https://wiki.openstreetmap.org/wiki/Key:amenity) for what other amenities we can extract.<br>*Note: this take a bit of time...*"
   ]
  },
  {
   "cell_type": "code",
   "execution_count": null,
   "metadata": {},
   "outputs": [],
   "source": [
    "#Extract restaurants in search area \n",
    "theAmenities = ox.pois.create_poi_gdf(polygon=theSearchArea,amenities=['restaurant','cafes'])"
   ]
  },
  {
   "cell_type": "code",
   "execution_count": null,
   "metadata": {},
   "outputs": [],
   "source": [
    "#Save the data to a CSV\n",
    "theAmenities.to_csv('../Data/OSM/Amenities_1mile.csv')"
   ]
  },
  {
   "cell_type": "markdown",
   "metadata": {},
   "source": [
    "To save our data as a shapefile, we need to ensure that the data contains only one \"feature type\", e.g., just points *or* polygons, as shapefiles can't store multiple types. So, let's examine the variety of feature types in our geodataframe of amenities."
   ]
  },
  {
   "cell_type": "code",
   "execution_count": null,
   "metadata": {},
   "outputs": [],
   "source": [
    "#List the unique types of features\n",
    "theAmenities['geometry'].type.unique()"
   ]
  },
  {
   "cell_type": "markdown",
   "metadata": {},
   "source": [
    "We see we have three types of shapes: `point`, `polygon`, and `multipolygon`. We can either save each into separate shapefiles, or we can convert them all to the same feature type, i.e. a point (by converting polygons and multipolygons to points via their centroids).\n",
    "* Both choices begin with splitting the geodataframe into separate dataframes, one for points and one for polygons/multipolygons. "
   ]
  },
  {
   "cell_type": "code",
   "execution_count": null,
   "metadata": {},
   "outputs": [],
   "source": [
    "#Parse the dataframe to three, based on geometry type\n",
    "theAmenities_points = theAmenities.loc[theAmenities['geometry'].type == 'Point'].reset_index()\n",
    "theAmenities_polys = theAmenities.loc[theAmenities['geometry'].type != 'Polygon'].reset_index()"
   ]
  },
  {
   "cell_type": "markdown",
   "metadata": {},
   "source": [
    "* We could export each into separate shapefiles, but instead we'll convert the Polygon and MultiPolygon features to Points by taking their centroids."
   ]
  },
  {
   "cell_type": "code",
   "execution_count": null,
   "metadata": {},
   "outputs": [],
   "source": [
    "#Convert polygon features to points by taking their centroids\n",
    "theAmenities_polys['geometry'] = theAmenities_polys['geometry'].centroid\n",
    "theAmenities_polys['geometry'].type.unique()"
   ]
  },
  {
   "cell_type": "markdown",
   "metadata": {},
   "source": [
    "* And now that all three are point features, let's merge them together and export as a shapefile"
   ]
  },
  {
   "cell_type": "code",
   "execution_count": null,
   "metadata": {},
   "outputs": [],
   "source": [
    "#Append the three together\n",
    "import pandas as pd\n",
    "theAmenities_all = pd.concat([theAmenities_points,theAmenities_polys])\n",
    "theAmenities_all.shape"
   ]
  },
  {
   "cell_type": "code",
   "execution_count": null,
   "metadata": {},
   "outputs": [],
   "source": [
    "#Save to a shapefile, selecting only the amenity type as an attribute\n",
    "theAmenities_all[['amenity','geometry']].to_file('../Data/OSM/OSM_amenities.shp')"
   ]
  },
  {
   "cell_type": "code",
   "execution_count": null,
   "metadata": {},
   "outputs": [],
   "source": [
    "#Get the area around one exit feature (the 56th one, just to grab one I know has amenities)\n",
    "theArea = theExits_wgs84.at[56,'geometry']"
   ]
  },
  {
   "cell_type": "code",
   "execution_count": null,
   "metadata": {},
   "outputs": [],
   "source": [
    "#Create a mask of amenities within this shape\n",
    "theSpatialMask = theAmenities_all.within(theArea)"
   ]
  },
  {
   "cell_type": "code",
   "execution_count": null,
   "metadata": {},
   "outputs": [],
   "source": [
    "#Count returns the number of \"trues\" within this mask\n",
    "theSpatialMask.sum()"
   ]
  },
  {
   "cell_type": "markdown",
   "metadata": {},
   "source": [
    "There are _2_ amenities within 1 mile of the 56th exit feature.\n",
    "\n",
    "Putting this together, we construct a function that returns the county of amenitry features within the buffer area. Then we can `apply` this function to the geometry series in the buffered exits dataframe, returning a series containing the full set of amenity counts - to which we can append to the exits attribute table. "
   ]
  },
  {
   "cell_type": "code",
   "execution_count": null,
   "metadata": {},
   "outputs": [],
   "source": [
    "#Define a function\n",
    "def get_amenity_count(theShape):\n",
    "    return theAmenities_all.within(theShape).sum()"
   ]
  },
  {
   "cell_type": "code",
   "execution_count": null,
   "metadata": {},
   "outputs": [],
   "source": [
    "#Apply the function to the get\n",
    "amenity_count = theExits_wgs84['geometry'].apply(get_amenity_count)"
   ]
  },
  {
   "cell_type": "code",
   "execution_count": null,
   "metadata": {},
   "outputs": [],
   "source": [
    "#Plot a histogram of the counts\n",
    "amenity_count.hist()"
   ]
  },
  {
   "cell_type": "code",
   "execution_count": null,
   "metadata": {},
   "outputs": [],
   "source": [
    "#Re-read in the exit features (since we modified them) and attach the amenity count data\n",
    "theExits = gpd.read_file('../Data/processed/Exits_distance_to_DCFC.shp')\n",
    "theExits['amenity_n'] = amenity_count\n",
    "theExits.head()"
   ]
  },
  {
   "cell_type": "code",
   "execution_count": null,
   "metadata": {},
   "outputs": [],
   "source": [
    "#Finally, save the exits to a new feature class\n",
    "theExits.to_file('../Data/processed/exits_amenities.shp')"
   ]
  },
  {
   "cell_type": "code",
   "execution_count": null,
   "metadata": {},
   "outputs": [],
   "source": []
  }
 ],
 "metadata": {
  "kernelspec": {
   "display_name": "Python 3",
   "language": "python",
   "name": "python3"
  },
  "language_info": {
   "codemirror_mode": {
    "name": "ipython",
    "version": 3
   },
   "file_extension": ".py",
   "mimetype": "text/x-python",
   "name": "python",
   "nbconvert_exporter": "python",
   "pygments_lexer": "ipython3",
   "version": "3.7.6"
  }
 },
 "nbformat": 4,
 "nbformat_minor": 4
}
