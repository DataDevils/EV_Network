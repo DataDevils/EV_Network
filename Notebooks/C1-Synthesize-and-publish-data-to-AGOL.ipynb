{
 "cells": [
  {
   "cell_type": "markdown",
   "metadata": {},
   "source": [
    "## Synthesize and publish your data to your ArcGIS Online Account\n",
    "Throughout our analysis, we've created a number of outputs. We won't have sufficient time to explore visualization techniques available in Python to view our different outputs. However, this notebook reveals how we can easily upload and document our datasets to our ArcGIS Online account, where we can more easily create web maps, story maps, and/or dashboards that we can share. \n",
    "\n",
    "The workflow, which relies heavily on ESRI's ArcGIS Python API, is fairly simple:\n",
    "1. Create a `gis` object, authenticated to our NSOE ArcGIS Online Account\n",
    "* Add our shapefile to the coding environment as a spatially enabled dataframe (aka \"GeoAccessor\" object)\n",
    "* Use the [to_featurelayer()](https://developers.arcgis.com/python/api-reference/arcgis.features.toc.html#arcgis.features.GeoAccessor.to_featurelayer) function to publish our feature layer to our NSOE AGOL space\n",
    "* Optionally: We can update information about our newly published feature layer\n",
    "* Optionally: We can share out newly published feature layer"
   ]
  },
  {
   "cell_type": "markdown",
   "metadata": {},
   "source": [
    "First, however, we may want to synthesize our different outputs. These may include all most of the following:\n",
    "* Exits, tagged with flood hazard zone data\n",
    "* Exits, tagged with distance from electric substation [*Note: I've not included that here, as I hope you can do this on your own*]\n",
    "* Exits, tagged with Euclidean distance to nearest DC fast charger location\n",
    "* Exits, tagged with # of amenities within 1 mile\n",
    "* Exits, tagged with Drive time distance to nearest DC fast charger location\n"
   ]
  },
  {
   "cell_type": "markdown",
   "metadata": {},
   "source": [
    "#### Import packages and create an authenticated link to your AGOL account"
   ]
  },
  {
   "cell_type": "code",
   "execution_count": null,
   "metadata": {},
   "outputs": [],
   "source": [
    "#Ignore warnings\n",
    "import warnings\n",
    "warnings.simplefilter('ignore')"
   ]
  },
  {
   "cell_type": "code",
   "execution_count": null,
   "metadata": {},
   "outputs": [],
   "source": [
    "#Load packages\n",
    "from arcgis import GIS\n",
    "import pandas as pd\n",
    "from arcgis.features import GeoAccessor"
   ]
  },
  {
   "cell_type": "code",
   "execution_count": null,
   "metadata": {},
   "outputs": [],
   "source": [
    "#Authenticate our GIS object\n",
    "gis = GIS(url='https://NSOE.maps.arcgis.com',username='jpfay_790')"
   ]
  },
  {
   "cell_type": "markdown",
   "metadata": {},
   "source": [
    "#### Import, tidy, and join datasets\n",
    "The various exit datasets we created should all still have a common `FID` attribute. We can use this common attribute to join each separate exit attribute to a single \"master\" feature class, which we will then save locally and/or publish to our AGOL account."
   ]
  },
  {
   "cell_type": "code",
   "execution_count": null,
   "metadata": {},
   "outputs": [],
   "source": [
    "#Read local datasets into spatial dataframes\n",
    "sdf_Exits = GeoAccessor.from_featureclass('../Data/MJBA/Exits.shp')\n",
    "sdf_floods = GeoAccessor.from_featureclass('../Data/processed/exits_flood.shp')\n",
    "sdf_EucDist = GeoAccessor.from_featureclass('../Data/processed/Exits_distance_to_DCFC.shp')\n",
    "sdf_AmenityCount = GeoAccessor.from_featureclass('../Data/processed/exits_amenity_counts.shp')\n",
    "sdf_DriveDist = GeoAccessor.from_featureclass('../Data/processed/exits_distance.shp')"
   ]
  },
  {
   "cell_type": "code",
   "execution_count": null,
   "metadata": {},
   "outputs": [],
   "source": [
    "#Subset fields from the Exits feature class and set FID to the index\n",
    "sdf_Exits = sdf_Exits[['FID','Longitude', 'Latitude', 'County', 'State','SHAPE']].set_index('FID')"
   ]
  },
  {
   "cell_type": "code",
   "execution_count": null,
   "metadata": {},
   "outputs": [],
   "source": [
    "#Extract just the FID and meaningful attribute, setting the index to FID\n",
    "sdf_floods = sdf_floods[['FID','Flood_Zone']].set_index('FID')\n",
    "sdf_EucDist = sdf_EucDist[['FID','Dist_to_DC']].set_index('FID')\n",
    "sdf_AmenityCount = sdf_AmenityCount[['FID','amenities']].set_index('FID')\n",
    "sdf_DriveDist = sdf_DriveDist[['FID','distance']].set_index('FID')"
   ]
  },
  {
   "cell_type": "code",
   "execution_count": null,
   "metadata": {},
   "outputs": [],
   "source": [
    "#Merge all datasets into a single exit dataset\n",
    "sdf_Master = pd.merge(left=sdf_Exits,right=sdf_floods,how='left',left_index=True,right_index=True)\n",
    "sdf_Master = pd.merge(left=sdf_Master,right=sdf_EucDist,how='left',left_index=True,right_index=True)\n",
    "sdf_Master = pd.merge(left=sdf_Master,right=sdf_AmenityCount,how='left',left_index=True,right_index=True)\n",
    "sdf_Master = pd.merge(left=sdf_Master,right=sdf_DriveDist,how='left',left_index=True,right_index=True)"
   ]
  },
  {
   "cell_type": "code",
   "execution_count": null,
   "metadata": {},
   "outputs": [],
   "source": [
    "#Rename columns\n",
    "sdf_Master.rename(columns={'Dist_to_DC':'Mi_to_DCFC',\n",
    "                           'amenities':'No_amenities',\n",
    "                           'distance':'RdMi_to_DCFC'},inplace=True)"
   ]
  },
  {
   "cell_type": "code",
   "execution_count": null,
   "metadata": {},
   "outputs": [],
   "source": [
    "#Optional: Save to a new local shapefile\n",
    "sdf_Master.spatial.to_featureclass('../Data/processed/Exits_final.shp')"
   ]
  },
  {
   "cell_type": "markdown",
   "metadata": {},
   "source": [
    "#### Publish to your ArcGIS Online account\n",
    "We've created three new datasets that don't already live on ArcGIS online: the NREL DCFC charging sites, the extracted OSM amenities locations, and of course our attributed candidate sites (i.e. the exits). Let's publish each of these to our AGOL account as hosted feature services. This is easily done using the `to_featurelayer()` function. "
   ]
  },
  {
   "cell_type": "code",
   "execution_count": null,
   "metadata": {},
   "outputs": [],
   "source": [
    "#Fetch the NREL CSV into a pandas dataframe, then convert to a spatial dataframe\n",
    "DCFC_df = pd.read_csv('../Data/NREL/DCFC.csv')\n",
    "DCFC_sdf = GeoAccessor.from_xy(df = DCFC_df, x_column='longitude', y_column='latitude',sr=4326)"
   ]
  },
  {
   "cell_type": "code",
   "execution_count": null,
   "metadata": {},
   "outputs": [],
   "source": [
    "#Convert the sdf to a FeatureLayer, which publishes it to AGOL\n",
    "DCFC_flyr = DCFC_sdf.spatial.to_featurelayer(title='NREL DC Fast Charger sites',\n",
    "                                             tags='EV Charger,ENV790')\n",
    "DCFC_flyr"
   ]
  },
  {
   "cell_type": "markdown",
   "metadata": {},
   "source": [
    "Click on the link above to view your service on ArcGIS On-line. You'll likely have to log-on as this feature service has not been shared with anyone, yet.\n",
    "\n",
    "Next, we'll update some properties for this layer. You can certainly do this via the web site, but we'll do this programmatically. We do this by first creating a dictionary of properties and their values and then updating our feature layer with these properties. See: https://developers.arcgis.com/python/api-reference/arcgis.gis.toc.html#arcgis.gis.Item.update for more information on what we can update and how the dictionary is structured."
   ]
  },
  {
   "cell_type": "code",
   "execution_count": null,
   "metadata": {},
   "outputs": [],
   "source": [
    "#Construct the dictionary of feature layer properties\n",
    "featLayer_properties = {\n",
    "    'snippet':\"NREL DC Fast Charging site. Extracted and subset via the NREL API\",\n",
    "    'summary':\"These data were extracted from the NREL API, subset using the following criteria...\"\n",
    "}\n",
    "#Apply the changes\n",
    "DCFC_flyr.update(featLayer_properties)"
   ]
  },
  {
   "cell_type": "code",
   "execution_count": null,
   "metadata": {},
   "outputs": [],
   "source": [
    "#Have a second look at our local view\n",
    "DCFC_flyr"
   ]
  },
  {
   "cell_type": "markdown",
   "metadata": {},
   "source": [
    "Finally, we want to share this layer with everone in our organization. "
   ]
  },
  {
   "cell_type": "code",
   "execution_count": null,
   "metadata": {},
   "outputs": [],
   "source": [
    "#Share with everyone in the organization\n",
    "DCFC_flyr.share(org=True)"
   ]
  },
  {
   "cell_type": "code",
   "execution_count": null,
   "metadata": {},
   "outputs": [],
   "source": [
    "sdf_floods['Flood_Zone'].unique()"
   ]
  },
  {
   "cell_type": "markdown",
   "metadata": {},
   "source": [
    "# Your assignment:\n",
    "Publish, document, and share your remaining two datasets: the OSM amenities and the candidate exit sites. You may also want to publish your road network dataset.\n",
    "\n",
    "With your data now hosted on ArcGIS online, you can create and share web maps of your data. Create a web map. Add your data to this web map. Also add the HILFD substations feature layer you found earlier on AGOL. Create multiple instances of your exits data, each symbolized to show the different criteria. Lastly, show the exits that meet a specific critera by filtering them for records that meet these criteria:\n",
    "* Is found within an area of 'Area of Minimal Flood Hazard'\n",
    "* At least 1 amenty found within 1 mile\n",
    "* At least 50 drive-miles from the nearest DCFC\n",
    "* No more than 3 miles from a power substation\n",
    "Display the resulting candidate locations symbolized by # of amenities.\n",
    "\n",
    "When complete, save and share your WebMap with everyone. Record the URL for the web map and submit to Sakai."
   ]
  }
 ],
 "metadata": {
  "kernelspec": {
   "display_name": "Python 3",
   "language": "python",
   "name": "python3"
  },
  "language_info": {
   "codemirror_mode": {
    "name": "ipython",
    "version": 3
   },
   "file_extension": ".py",
   "mimetype": "text/x-python",
   "name": "python",
   "nbconvert_exporter": "python",
   "pygments_lexer": "ipython3",
   "version": "3.7.6"
  }
 },
 "nbformat": 4,
 "nbformat_minor": 4
}
