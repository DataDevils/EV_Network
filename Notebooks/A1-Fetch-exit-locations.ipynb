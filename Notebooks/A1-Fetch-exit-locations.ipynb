{
 "cells": [
  {
   "cell_type": "markdown",
   "metadata": {},
   "source": [
    "# Fetch NC Exit Location Data\n",
    "This notebook extracts NC Exit location data from the MJB&A AGOL data located at [this ESRI REST endpoint](https://services7.arcgis.com/fqNd6NEGNf5qzQdv/ArcGIS/rest/services/TCI_NC_exits_2019_06_11_v1/FeatureServer/1).\n",
    "\n",
    "\\* NOTE: These data are use by permission only and for academic purposes only. Do NOT use these data outside this classroom exercise. \n",
    "\n",
    "#### Workflow\n",
    "* Import the arcgis FeatureLayer class\n",
    "* Create a FeatureLayer object from the MJBA Feature Layers REST endpoint (i.e. its URL)\n",
    "* Query features in the feature layer for just those found in North Carolina\n",
    "* Convert the resulting query FeatureSet object to a Spatially Enabled Dataframe\n",
    "* Save the spatially enabled dataframe to a local shapefile: `Exits.shp` in the `Data/MJBDA` folder"
   ]
  },
  {
   "cell_type": "code",
   "execution_count": null,
   "metadata": {},
   "outputs": [],
   "source": [
    "#Import the arcgis FeatureLayer class\n",
    "from arcgis.features import FeatureLayer"
   ]
  },
  {
   "cell_type": "code",
   "execution_count": null,
   "metadata": {},
   "outputs": [],
   "source": [
    "#Set the URL for the feature layer service\n",
    "theURL = 'https://services7.arcgis.com/fqNd6NEGNf5qzQdv/ArcGIS/rest/services/TCI_NC_exits_2019_06_11_v1/FeatureServer/1'\n",
    "theFeatureLayer = FeatureLayer(theURL)"
   ]
  },
  {
   "cell_type": "code",
   "execution_count": null,
   "metadata": {},
   "outputs": [],
   "source": [
    "#Query the feature layer for features found in North Carolina\n",
    "theFeatureSet = theFeatureLayer.query(\"STATE = 'NC'\")"
   ]
  },
  {
   "cell_type": "code",
   "execution_count": null,
   "metadata": {},
   "outputs": [],
   "source": [
    "#Convert the feature set to a spatially enabled dataframe\n",
    "theSDF = theFeatureSet.sdf"
   ]
  },
  {
   "cell_type": "code",
   "execution_count": null,
   "metadata": {},
   "outputs": [],
   "source": [
    "#Save the spatial dataframe to a local shapefile\n",
    "theSDF.spatial.to_featureclass(location='../Data/MJBA/Exits.shp')"
   ]
  }
 ],
 "metadata": {
  "kernelspec": {
   "display_name": "Python 3",
   "language": "python",
   "name": "python3"
  },
  "language_info": {
   "codemirror_mode": {
    "name": "ipython",
    "version": 3
   },
   "file_extension": ".py",
   "mimetype": "text/x-python",
   "name": "python",
   "nbconvert_exporter": "python",
   "pygments_lexer": "ipython3",
   "version": "3.7.6"
  }
 },
 "nbformat": 4,
 "nbformat_minor": 2
}
