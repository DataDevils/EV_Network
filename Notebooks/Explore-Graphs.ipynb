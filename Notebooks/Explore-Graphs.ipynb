{
 "cells": [
  {
   "cell_type": "markdown",
   "metadata": {},
   "source": [
    "## Exploring Graph Datasets\n"
   ]
  },
  {
   "cell_type": "code",
   "execution_count": null,
   "metadata": {},
   "outputs": [],
   "source": [
    "#Import packages\n",
    "import osmnx as ox\n",
    "import networkx as nx\n",
    "import geopandas as gpd\n",
    "import pandas as pd\n",
    "from shapely.geometry import Point"
   ]
  },
  {
   "cell_type": "markdown",
   "metadata": {},
   "source": [
    "### Load data into the coding environment"
   ]
  },
  {
   "cell_type": "code",
   "execution_count": null,
   "metadata": {},
   "outputs": [],
   "source": [
    "#Load in the NC road network\n",
    "nc_graph = ox.load_graphml('NC_roads.graphml',folder='../Data/OSM/')"
   ]
  },
  {
   "cell_type": "code",
   "execution_count": null,
   "metadata": {},
   "outputs": [],
   "source": [
    "#Convert the graph to geodataframes of nodes and edges\n",
    "#https://osmnx.readthedocs.io/en/stable/osmnx.html#osmnx.save_load.graph_to_gdfs\n",
    "nodes_gdf, edges_gdf = ox.graph_to_gdfs(nc_graph)"
   ]
  },
  {
   "cell_type": "code",
   "execution_count": null,
   "metadata": {},
   "outputs": [],
   "source": [
    "#Load in the DCFC locations as pandas dataframe\n",
    "dcfc_df = pd.read_csv('../Data/NREL/DCFC.csv')"
   ]
  },
  {
   "cell_type": "code",
   "execution_count": null,
   "metadata": {},
   "outputs": [],
   "source": [
    "#Convert to a geopandas dataframe\n",
    "geom_points = [Point(xy) for xy in zip(dcfc_df['longitude'],dcfc_df['latitude'])]\n",
    "dcfc_gdf = gpd.GeoDataFrame(dcfc_df,geometry=geom_points,crs=4326)"
   ]
  },
  {
   "cell_type": "code",
   "execution_count": null,
   "metadata": {},
   "outputs": [],
   "source": [
    "#Load the exits in as a geodataframe\n",
    "exits_gdf = gpd.read_file('../Data/MJBA/Exits.shp')"
   ]
  },
  {
   "cell_type": "markdown",
   "metadata": {},
   "source": [
    "#### Locate nodes nearest exit features and add as exit attribute"
   ]
  },
  {
   "cell_type": "code",
   "execution_count": null,
   "metadata": {},
   "outputs": [],
   "source": [
    "#Function to return the ID of the node nearest a point geometry\n",
    "def get_node(thePoint):\n",
    "    return ox.get_nearest_node(nc_graph,(thePoint.y,thePoint.x))"
   ]
  },
  {
   "cell_type": "code",
   "execution_count": null,
   "metadata": {},
   "outputs": [],
   "source": [
    "#Apply the function to each exit feature, inserting values into a column of node_ids \n",
    "exits_gdf['node_id'] = exits_gdf['geometry'].apply(get_node)"
   ]
  },
  {
   "cell_type": "code",
   "execution_count": null,
   "metadata": {},
   "outputs": [],
   "source": [
    "#Apply the function to each DCFC feature, inserting values into a column of node_ids\n",
    "dcfc_gdf['node_id'] = dcfc_gdf['geometry'].apply(get_node)"
   ]
  },
  {
   "cell_type": "markdown",
   "metadata": {},
   "source": [
    "### Visualize the data\n"
   ]
  },
  {
   "cell_type": "code",
   "execution_count": null,
   "metadata": {},
   "outputs": [],
   "source": [
    "#Make a list of exit node ids\n",
    "exit_nodes = exits_gdf['node_id'].unique()\n",
    "dcfc_nodes = dcfc_gdf['node_id'].unique()"
   ]
  },
  {
   "cell_type": "code",
   "execution_count": null,
   "metadata": {},
   "outputs": [],
   "source": [
    "#Set node colors based on whether an exit or not\n",
    "node_colors = []\n",
    "node_sizes = []\n",
    "for node in nc_graph.nodes():\n",
    "    if node in dcfc_nodes: \n",
    "        node_colors.append('green')\n",
    "        node_sizes.append(52)\n",
    "    elif node in exit_nodes:\n",
    "        node_colors.append('red')\n",
    "        node_sizes.append(35)\n",
    "    else:\n",
    "        node_colors.append('blue')\n",
    "        node_sizes.append(2)"
   ]
  },
  {
   "cell_type": "code",
   "execution_count": null,
   "metadata": {},
   "outputs": [],
   "source": [
    "#Plot the graph, applying node symbolization created above\n",
    "fig, ax = ox.plot_graph(nc_graph, \n",
    "                        fig_height=10,\n",
    "                        node_size=node_sizes,\n",
    "                        node_color=node_colors);"
   ]
  },
  {
   "cell_type": "code",
   "execution_count": null,
   "metadata": {},
   "outputs": [],
   "source": [
    "#Save the plot\n",
    "fig, ax = ox.plot_graph(nc_graph, \n",
    "                        fig_height=10,\n",
    "                        node_size=node_sizes,\n",
    "                        node_color=nc,\n",
    "                        save=True,\n",
    "                        filename='graph',\n",
    "                        show=False\n",
    "                       )"
   ]
  },
  {
   "cell_type": "markdown",
   "metadata": {},
   "source": [
    "![](images/graph.png)"
   ]
  },
  {
   "cell_type": "code",
   "execution_count": null,
   "metadata": {},
   "outputs": [],
   "source": []
  }
 ],
 "metadata": {
  "kernelspec": {
   "display_name": "Python 3",
   "language": "python",
   "name": "python3"
  },
  "language_info": {
   "codemirror_mode": {
    "name": "ipython",
    "version": 3
   },
   "file_extension": ".py",
   "mimetype": "text/x-python",
   "name": "python",
   "nbconvert_exporter": "python",
   "pygments_lexer": "ipython3",
   "version": "3.7.6"
  }
 },
 "nbformat": 4,
 "nbformat_minor": 4
}
