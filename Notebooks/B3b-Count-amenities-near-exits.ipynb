{
 "cells": [
  {
   "cell_type": "markdown",
   "metadata": {},
   "source": [
    "## Count amenities near exits\n",
    "* For each exit, buffer a distance of 1 mile\n",
    "* Count the # of amenities falling within each buffer\n",
    "* Add the count to the exits geodataframe\n",
    "* Export the geodataframe to a shapefile"
   ]
  },
  {
   "cell_type": "code",
   "execution_count": null,
   "metadata": {},
   "outputs": [],
   "source": [
    "#Import packages\n",
    "import geopandas as gpd"
   ]
  },
  {
   "cell_type": "code",
   "execution_count": null,
   "metadata": {},
   "outputs": [],
   "source": [
    "#Read in exit features and amenity features\n",
    "exits_gdf = gpd.read_file('../Data/MJBA/Exits.shp')\n",
    "amenities_gdf = gpd.read_file('../Data/OSM/OSM_amenities.shp')"
   ]
  },
  {
   "cell_type": "code",
   "execution_count": null,
   "metadata": {},
   "outputs": [],
   "source": [
    "#Project each to UTM Zone 17\n",
    "exits_gdf = exits_gdf.to_crs(32617)\n",
    "amenities_gdf = amenities_gdf.to_crs(32617)"
   ]
  },
  {
   "cell_type": "markdown",
   "metadata": {},
   "source": [
    "---\n",
    "#### Proof of concept: \n",
    "Extract # of amenities within buffer of a given point"
   ]
  },
  {
   "cell_type": "code",
   "execution_count": null,
   "metadata": {},
   "outputs": [],
   "source": [
    "theExit = exits_gdf.at[56,'geometry']"
   ]
  },
  {
   "cell_type": "code",
   "execution_count": null,
   "metadata": {},
   "outputs": [],
   "source": [
    "theExit_search = theExit.buffer(1609.34)"
   ]
  },
  {
   "cell_type": "code",
   "execution_count": null,
   "metadata": {},
   "outputs": [],
   "source": [
    "amenities_gdf.geometry.within(theExit_search).sum()"
   ]
  },
  {
   "cell_type": "markdown",
   "metadata": {},
   "source": [
    "We see that the selected exit feature has two amenities within the search radius. \n",
    "\n",
    "---\n",
    "#### Implementation\n",
    "\n",
    "Now let's implement that concept in a function and then apply that function to all exit features"
   ]
  },
  {
   "cell_type": "code",
   "execution_count": null,
   "metadata": {},
   "outputs": [],
   "source": [
    "def count_amenities(thePoint,search_radius=1609.34):\n",
    "    #buffer the point\n",
    "    thePoly = thePoint.buffer(search_radius)\n",
    "    #count amenities\n",
    "    theAmemityCount = amenities_gdf.geometry.within(thePoly).sum()\n",
    "    #return the count\n",
    "    return theAmemityCount"
   ]
  },
  {
   "cell_type": "code",
   "execution_count": null,
   "metadata": {},
   "outputs": [],
   "source": [
    "#Apply the funciton to all exit point features\n",
    "exits_gdf['amenities'] = exits_gdf['geometry'].apply(count_amenities)"
   ]
  },
  {
   "cell_type": "code",
   "execution_count": null,
   "metadata": {},
   "outputs": [],
   "source": [
    "#Export the exits as a feature class\n",
    "exits_gdf.to_file('../Data/Processed/exits_amenity_counts.shp')"
   ]
  },
  {
   "cell_type": "markdown",
   "metadata": {},
   "source": [
    "###### Bonus: Quick visualization\n",
    "* First, a static map with `contextily`"
   ]
  },
  {
   "cell_type": "code",
   "execution_count": null,
   "metadata": {},
   "outputs": [],
   "source": [
    "#Import contextily \n",
    "import contextily as ctx"
   ]
  },
  {
   "cell_type": "code",
   "execution_count": null,
   "metadata": {},
   "outputs": [],
   "source": [
    "#Transform to web mercator (to match contextily base maps)\n",
    "exits_gdf_wm = exits_gdf.to_crs(3857)"
   ]
  },
  {
   "cell_type": "code",
   "execution_count": null,
   "metadata": {},
   "outputs": [],
   "source": [
    "#Plot the amenities to an axis called 'ax'\n",
    "ax =exits_gdf_wm.plot('amenities',\n",
    "                      cmap='coolwarm',\n",
    "                      markersize= exits_gdf['amenities']*10,\n",
    "                      alpha=0.9,\n",
    "                      figsize=(20,10));\n",
    "# Add basemap\n",
    "ctx.add_basemap(ax)"
   ]
  },
  {
   "cell_type": "markdown",
   "metadata": {},
   "source": [
    "* Next an interactive map with mplleaflet"
   ]
  },
  {
   "cell_type": "code",
   "execution_count": null,
   "metadata": {},
   "outputs": [],
   "source": [
    "#import matplotlib.pyplot as plt\n",
    "import mplleaflet"
   ]
  },
  {
   "cell_type": "code",
   "execution_count": null,
   "metadata": {},
   "outputs": [],
   "source": [
    "#Plot the amenities to an axis called 'ax'\n",
    "ax =exits_gdf.to_crs(4326).plot('amenities',\n",
    "                      cmap='coolwarm',\n",
    "                      markersize= exits_gdf['amenities']*10,\n",
    "                      alpha=0.9,\n",
    "                      figsize=(20,10));\n",
    "# 2. Convert plot to a web map and show in a new page\n",
    "mplleaflet.show(fig=ax.figure)"
   ]
  }
 ],
 "metadata": {
  "kernelspec": {
   "display_name": "Python 3",
   "language": "python",
   "name": "python3"
  },
  "language_info": {
   "codemirror_mode": {
    "name": "ipython",
    "version": 3
   },
   "file_extension": ".py",
   "mimetype": "text/x-python",
   "name": "python",
   "nbconvert_exporter": "python",
   "pygments_lexer": "ipython3",
   "version": "3.7.6"
  }
 },
 "nbformat": 4,
 "nbformat_minor": 4
}
